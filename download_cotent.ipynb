{
 "cells": [
  {
   "cell_type": "code",
   "execution_count": null,
   "id": "79311b26",
   "metadata": {},
   "outputs": [],
   "source": [
    "import instaloader\n",
    "import os\n",
    "import time\n",
    "import shutil\n",
    "from config import *"
   ]
  },
  {
   "cell_type": "code",
   "execution_count": 87,
   "id": "5b9f798b",
   "metadata": {},
   "outputs": [],
   "source": [
    "class Folder_Organiser():\n",
    "    def __init__(self, folder):\n",
    "        self.folder = folder\n",
    "        self.mp4_exists = None\n",
    "        self.jpg_exists = None\n",
    "        self.num_mp4 = None\n",
    "\n",
    "    # @staticmethod\n",
    "    def _is_a_folder_of_post(self):\n",
    "        txt_exists = False\n",
    "        self.jpg_exists, self.num_jpg = False, 0\n",
    "        self.mp4_exists, self.num_mp4 = False, 0\n",
    "\n",
    "        for file in os.listdir(self.folder):\n",
    "            if file.endswith(\".mp4\"): \n",
    "                self.mp4_exists = True\n",
    "                self.num_mp4 += 1\n",
    "\n",
    "            if file.endswith(\".jpg\"): \n",
    "                self.jpg_exists = True\n",
    "                self.num_jpg += 1\n",
    "\n",
    "            if file.endswith(\".txt\"): txt_exists = True\n",
    "        \n",
    "        if self.jpg_exists: self.nature = \"\"\n",
    "        return (txt_exists and self.jpg_exists) or (txt_exists and self.mp4_exists)\n",
    "\n",
    "    def organise(self):\n",
    "        if self._is_a_folder_of_post():\n",
    "            thumbnails_and_mp4 = {}\n",
    "            files = os.listdir(self.folder)\n",
    "\n",
    "            if self.mp4_exists: # Find thumbnail\n",
    "                for file in files:\n",
    "                    if file.endswith(\".jpg\"):     \n",
    "                        thumbnail_path = file.removesuffix(\".jpg\") + \".mp4\"\n",
    "                        if thumbnail_path in files:         # if a jpg is corresponding to a mp4, then that jpg is its thumbnail\n",
    "                            thumbnails_and_mp4[file] = thumbnail_path\n",
    "                        else:                               # else its a standalone image\n",
    "                            thumbnails_and_mp4[file] = file\n",
    "            elif self.jpg_exists:\n",
    "                for file in files:\n",
    "                    if file.endswith(\".jpg\"): \n",
    "                        thumbnails_and_mp4[file] = file\n",
    "\n",
    "        else: print(\"Not a folder that has saved posts\")\n",
    "        for file in files:\n",
    "            if file.endswith(\".txt\"):\n",
    "                with open(os.path.join(self.folder, file), 'r') as f:\n",
    "                    caption = f.read()\n",
    "                break\n",
    "\n",
    "        return sorted(thumbnails_and_mp4.items()), caption"
   ]
  },
  {
   "cell_type": "code",
   "execution_count": 89,
   "id": "8de5cf51",
   "metadata": {},
   "outputs": [
    {
     "data": {
      "text/plain": [
       "([('2025-06-15_18-01-28_UTC_1.jpg', '2025-06-15_18-01-28_UTC_1.mp4'),\n",
       "  ('2025-06-15_18-01-28_UTC_2.jpg', '2025-06-15_18-01-28_UTC_2.mp4'),\n",
       "  ('2025-06-15_18-01-28_UTC_3.jpg', '2025-06-15_18-01-28_UTC_3.mp4'),\n",
       "  ('2025-06-15_18-01-28_UTC_4.jpg', '2025-06-15_18-01-28_UTC_4.mp4'),\n",
       "  ('2025-06-15_18-01-28_UTC_5.jpg', '2025-06-15_18-01-28_UTC_5.mp4'),\n",
       "  ('2025-06-15_18-01-28_UTC_6.jpg', '2025-06-15_18-01-28_UTC_6.mp4'),\n",
       "  ('2025-06-15_18-01-28_UTC_7.jpg', '2025-06-15_18-01-28_UTC_7.mp4')],\n",
       " \"Here's to the emperor penguin dads who go the extra mile 💪\\n\\n#SecretsOfThePenguins is now streaming on @DisneyPlus and @hulu.\\n\")"
      ]
     },
     "execution_count": 89,
     "metadata": {},
     "output_type": "execute_result"
    }
   ],
   "source": [
    "f = Folder_Organiser('content/1114370949568561922')\n",
    "f.organise()"
   ]
  },
  {
   "cell_type": "code",
   "execution_count": 25,
   "id": "8dacca28",
   "metadata": {},
   "outputs": [
    {
     "name": "stdout",
     "output_type": "stream",
     "text": [
      "Deleting file: content/1114370949568561922/2025-06-15_18-01-28_UTC.json.xz\n",
      "Deleting file: content/-8408391815639822378/2025-06-15_13-00-00_UTC.json.xz\n",
      "Deleting file: content/6344355313757062264/2025-06-15_21-04-38_UTC.json.xz\n"
     ]
    }
   ],
   "source": [
    "def delete_files_with_extensions(root_dir, ext = \".json.xz\"):\n",
    "\n",
    "    for root, dirs, files in os.walk(root_dir):\n",
    "        for file in files:\n",
    "            if file.endswith(ext):\n",
    "                full_path = os.path.join(root, file)\n",
    "                print(f\"Deleting file: {full_path}\")\n",
    "                os.remove(full_path)\n",
    "\n",
    "delete_files_with_extensions(\"content\")"
   ]
  },
  {
   "cell_type": "code",
   "execution_count": 166,
   "id": "06d2f23f",
   "metadata": {},
   "outputs": [],
   "source": [
    "class Fetcher():\n",
    "    def __init__(self, \n",
    "                 target_accounts,   # List of accounts\n",
    "                 get_per_accs = 1,  # How many posts to get from each account\n",
    "                 delay_per_post = 0,\n",
    "                 ):\n",
    "        if isinstance(target_accounts, str): target_accounts = [target_accounts]\n",
    "        assert type(target_accounts) == list, \"Make sure `target_accounts` is a list\"\n",
    "\n",
    "        self.target_accounts = target_accounts\n",
    "        self.get_per_accs = get_per_accs\n",
    "        self.delay_per_post = delay_per_post\n",
    "\n",
    "        assert self.get_per_accs <= 10, \"Keep it below 10 bruv\"\n",
    "\n",
    "        self.ig = instaloader.Instaloader()\n",
    "    \n",
    "    def fetch_content(self):\n",
    "        with open(\"posted.txt\", \"r\") as f:\n",
    "            posted = f.readlines()\n",
    "            posted = [int(i) for i in posted if i != \"\\n\"]\n",
    "\n",
    "        for account in self.target_accounts:\n",
    "            print(f\"\\n--- {account} ---\")\n",
    "            count = 0\n",
    "            profile = instaloader.Profile.from_username(self.ig.context, account)\n",
    "            for post in profile.get_posts():\n",
    "                target_path = os.path.join(CONTENT_FOLDER, str(post.mediaid))\n",
    "\n",
    "                # instaloader download is causing issue when saving a post it replaces / [U+002f] with ∕ [U+2215]\n",
    "                # Causing post to be saved in home dir\n",
    "                # Solving: 1. Saving in home  \n",
    "                #          2. Moving to content dir\n",
    "                \n",
    "                if post.mediaid in posted:\n",
    "                    print(\"Content already posted...Skipping...\")\n",
    "                    if not post.is_pinned:\n",
    "                        count += 1\n",
    "                else:   \n",
    "                    self.ig.download_post(post, target = str(post.mediaid)) # 1.\n",
    "                    shutil.move(str(post.mediaid), target_path)             # 2.\n",
    "\n",
    "                    with open(\"posted.txt\", \"a\") as f:\n",
    "                        f.write(f\"\\n{str(post.mediaid)}\")\n",
    "\n",
    "                    time.sleep(self.delay_per_post)\n",
    "                    count += 1\n",
    "\n",
    "                if count >= self.get_per_accs: break\n",
    "                \n",
    "        delete_files_with_extensions(CONTENT_FOLDER)\n",
    "\n",
    "    def clear_folder(self,):\n",
    "        if os.path.exists(CONTENT_FOLDER):\n",
    "            shutil.rmtree(CONTENT_FOLDER)\n",
    "            print(f\"Cleared folder: {CONTENT_FOLDER}\")\n",
    "        os.makedirs(CONTENT_FOLDER, exist_ok=True)\n",
    "    "
   ]
  },
  {
   "cell_type": "code",
   "execution_count": 167,
   "id": "f69c3d91",
   "metadata": {},
   "outputs": [],
   "source": [
    "fetcher = Fetcher(target_accounts = [\"cartoonnetworkofficial\", \"natgeo\", \"marvel\"], get_per_accs=1)"
   ]
  },
  {
   "cell_type": "code",
   "execution_count": 168,
   "id": "bf63adab",
   "metadata": {},
   "outputs": [
    {
     "name": "stdout",
     "output_type": "stream",
     "text": [
      "\n",
      "--- cartoonnetworkofficial ---\n",
      "Content already posted...Skipping...\n",
      "Content already posted...Skipping...\n",
      "\n",
      "--- natgeo ---\n",
      "Content already posted...Skipping...\n",
      "\n",
      "--- marvel ---\n",
      "Content already posted...Skipping...\n",
      "Content already posted...Skipping...\n",
      "Content already posted...Skipping...\n"
     ]
    }
   ],
   "source": [
    "fetcher.fetch_content()"
   ]
  },
  {
   "cell_type": "code",
   "execution_count": 171,
   "id": "70c08b40",
   "metadata": {},
   "outputs": [],
   "source": [
    "content_path = []\n",
    "\n",
    "folders = os.listdir(CONTENT_FOLDER)\n",
    "for folder in folders:\n",
    "    content = Folder_Organiser(f'{CONTENT_FOLDER}/{folder}')\n",
    "    content_path.append(content.organise())"
   ]
  },
  {
   "cell_type": "code",
   "execution_count": 174,
   "id": "9fbf2da6",
   "metadata": {},
   "outputs": [
    {
     "data": {
      "text/plain": [
       "([('2025-06-15_18-01-28_UTC_1.jpg', '2025-06-15_18-01-28_UTC_1.mp4'),\n",
       "  ('2025-06-15_18-01-28_UTC_2.jpg', '2025-06-15_18-01-28_UTC_2.mp4'),\n",
       "  ('2025-06-15_18-01-28_UTC_3.jpg', '2025-06-15_18-01-28_UTC_3.mp4'),\n",
       "  ('2025-06-15_18-01-28_UTC_4.jpg', '2025-06-15_18-01-28_UTC_4.mp4'),\n",
       "  ('2025-06-15_18-01-28_UTC_5.jpg', '2025-06-15_18-01-28_UTC_5.mp4'),\n",
       "  ('2025-06-15_18-01-28_UTC_6.jpg', '2025-06-15_18-01-28_UTC_6.mp4'),\n",
       "  ('2025-06-15_18-01-28_UTC_7.jpg', '2025-06-15_18-01-28_UTC_7.mp4')],\n",
       " \"Here's to the emperor penguin dads who go the extra mile 💪\\n\\n#SecretsOfThePenguins is now streaming on @DisneyPlus and @hulu.\\n\")"
      ]
     },
     "execution_count": 174,
     "metadata": {},
     "output_type": "execute_result"
    }
   ],
   "source": [
    "content_path[1]"
   ]
  },
  {
   "cell_type": "code",
   "execution_count": 170,
   "id": "11b46edf",
   "metadata": {},
   "outputs": [],
   "source": [
    "!find . -name '.DS_Store' -type f -delete"
   ]
  }
 ],
 "metadata": {
  "kernelspec": {
   "display_name": "Python 3",
   "language": "python",
   "name": "python3"
  },
  "language_info": {
   "codemirror_mode": {
    "name": "ipython",
    "version": 3
   },
   "file_extension": ".py",
   "mimetype": "text/x-python",
   "name": "python",
   "nbconvert_exporter": "python",
   "pygments_lexer": "ipython3",
   "version": "3.11.5"
  }
 },
 "nbformat": 4,
 "nbformat_minor": 5
}
