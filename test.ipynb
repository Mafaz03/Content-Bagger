{
 "cells": [
  {
   "cell_type": "code",
   "execution_count": null,
   "id": "cf308d83",
   "metadata": {},
   "outputs": [],
   "source": [
    "!pip3 install instaloader\n",
    "!pip3 install instagrapi"
   ]
  },
  {
   "cell_type": "code",
   "execution_count": 18,
   "id": "1c2151d5",
   "metadata": {},
   "outputs": [],
   "source": [
    "import instaloader\n",
    "import os\n",
    "import time\n",
    "import instagrapi"
   ]
  },
  {
   "cell_type": "code",
   "execution_count": 17,
   "id": "184ae494",
   "metadata": {},
   "outputs": [],
   "source": [
    "from instagrapi.types import StoryMention, StoryMedia, StoryLink, StoryHashtag"
   ]
  },
  {
   "cell_type": "code",
   "execution_count": null,
   "id": "b2a7cde2",
   "metadata": {},
   "outputs": [
    {
     "data": {
      "text/plain": [
       "<bound method Profile.from_username of <class 'instaloader.structures.Profile'>>"
      ]
     },
     "execution_count": 5,
     "metadata": {},
     "output_type": "execute_result"
    }
   ],
   "source": [
    "ig = instaloader.Instaloader()\n",
    "profile = instaloader.Profile.from_username(ig.context, \"cartoonnetworkofficial\")"
   ]
  },
  {
   "cell_type": "code",
   "execution_count": 7,
   "id": "bec55ff1",
   "metadata": {},
   "outputs": [
    {
     "ename": "NameError",
     "evalue": "name 'profile' is not defined",
     "output_type": "error",
     "traceback": [
      "\u001b[0;31m---------------------------------------------------------------------------\u001b[0m",
      "\u001b[0;31mNameError\u001b[0m                                 Traceback (most recent call last)",
      "Cell \u001b[0;32mIn[7], line 1\u001b[0m\n\u001b[0;32m----> 1\u001b[0m post1 \u001b[38;5;241m=\u001b[39m \u001b[38;5;28mnext\u001b[39m(\u001b[43mprofile\u001b[49m\u001b[38;5;241m.\u001b[39mget_posts())\n\u001b[1;32m      2\u001b[0m post1\n",
      "\u001b[0;31mNameError\u001b[0m: name 'profile' is not defined"
     ]
    }
   ],
   "source": [
    "post1 = next(profile.get_posts())\n",
    "post1"
   ]
  },
  {
   "cell_type": "code",
   "execution_count": 12,
   "id": "39d42a5c",
   "metadata": {},
   "outputs": [
    {
     "name": "stdout",
     "output_type": "stream",
     "text": [
      "wow/2025-05-19_13-00-04_UTC.jpg [Babe wake up, we have new Gum…] wow/2025-05-19_13-00-04_UTC.mp4 json \n"
     ]
    },
    {
     "data": {
      "text/plain": [
       "True"
      ]
     },
     "execution_count": 12,
     "metadata": {},
     "output_type": "execute_result"
    }
   ],
   "source": [
    "ig.download_post(post1, target=\"wow\")"
   ]
  },
  {
   "cell_type": "code",
   "execution_count": 1,
   "id": "0735d223",
   "metadata": {},
   "outputs": [
    {
     "data": {
      "text/plain": [
       "True"
      ]
     },
     "execution_count": 1,
     "metadata": {},
     "output_type": "execute_result"
    }
   ],
   "source": [
    "from instagrapi import Client\n",
    "\n",
    "cl = Client()\n",
    "cl.login(\"4tpurpose101\", \"doremon\")"
   ]
  },
  {
   "cell_type": "code",
   "execution_count": null,
   "id": "a315f726",
   "metadata": {},
   "outputs": [
    {
     "name": "stdout",
     "output_type": "stream",
     "text": [
      "Analyzing CLIP file \"wow/2025-05-19_13-00-04_UTC.mp4\"\n"
     ]
    },
    {
     "data": {
      "text/plain": [
       "Media(pk=3656034094060475900, id='3656034094060475900_75456177063', code='DK816NXMRX8', taken_at=datetime.datetime(2025, 6, 16, 5, 54, 23, tzinfo=TzInfo(UTC)), media_type=2, image_versions2={'additional_candidates': {'first_frame': {'height': 639, 'scans_profile': 'e15', 'url': 'https://scontent.cdninstagram.com/v/t51.71878-15/504535531_1070274965239732_2667581960272720769_n.jpg?stp=dst-jpg_e15_p360x360_tt6&_nc_cat=107&ccb=1-7&_nc_sid=58cdad&efg=eyJ2ZW5jb2RlX3RhZyI6InhwaWRzLjY0MHgxMTM2LnNkciJ9&_nc_ohc=TkYArnW7TVYQ7kNvwESJwie&_nc_oc=AdklH5gE9PBjNZ_Etbwe2WjjR_poFlgfJ6wEnlpY9LRiSILKj-1WPhNhIzxDW794qi0OJPRUbud5YrcntKSBMIyS&_nc_ad=z-m&_nc_cid=0&_nc_zt=23&_nc_ht=scontent.cdninstagram.com&_nc_gid=M1Wyp7cNP_AfvIsnQkyc2g&oh=00_AfMmFMB4MgOX5Vxjw6kLirnPTaBddAPHLIGf-nqBVIvGCw&oe=68559374', 'width': 360}, 'igtv_first_frame': {'height': 639, 'scans_profile': 'e15', 'url': 'https://scontent.cdninstagram.com/v/t51.71878-15/504535531_1070274965239732_2667581960272720769_n.jpg?stp=dst-jpg_e15_p360x360_tt6&_nc_cat=107&ccb=1-7&_nc_sid=58cdad&efg=eyJ2ZW5jb2RlX3RhZyI6InhwaWRzLjY0MHgxMTM2LnNkciJ9&_nc_ohc=TkYArnW7TVYQ7kNvwESJwie&_nc_oc=AdklH5gE9PBjNZ_Etbwe2WjjR_poFlgfJ6wEnlpY9LRiSILKj-1WPhNhIzxDW794qi0OJPRUbud5YrcntKSBMIyS&_nc_ad=z-m&_nc_cid=0&_nc_zt=23&_nc_ht=scontent.cdninstagram.com&_nc_gid=M1Wyp7cNP_AfvIsnQkyc2g&oh=00_AfMmFMB4MgOX5Vxjw6kLirnPTaBddAPHLIGf-nqBVIvGCw&oe=68559374', 'width': 360}, 'smart_frame': None}, 'candidates': [{'height': 450, 'scans_profile': 'e15', 'url': 'https://scontent.cdninstagram.com/v/t51.75761-15/508646474_17843790378513064_4297980843217685909_n.jpg?stp=dst-jpg_e15_p360x360_tt6&_nc_cat=101&ig_cache_key=MzY1NjAzNDA5NDA2MDQ3NTkwMA%3D%3D.3-ccb1-7&ccb=1-7&_nc_sid=58cdad&efg=eyJ2ZW5jb2RlX3RhZyI6InhwaWRzLjY0MHg4MDAuc2RyIn0%3D&_nc_ohc=jGrzA6Kk0h4Q7kNvwGRnjk3&_nc_oc=AdknGm1u3n45NklIBiKLDlSKGmJ_hogxbQye7fht4kGmkNubvFIeK70cniZtru3rde7vH0adItiRu27ondcNZloY&_nc_ad=z-m&_nc_cid=0&_nc_zt=23&_nc_ht=scontent.cdninstagram.com&_nc_gid=M1Wyp7cNP_AfvIsnQkyc2g&oh=00_AfOGczRDRffiTHYwy5WJi7XeihQG7qJlxFX5OXFBuuR-pA&oe=685596E6', 'width': 360}], 'scrubber_spritesheet_info_candidates': {'default': {'file_size_kb': 351, 'max_thumbnails_per_sprite': 105, 'rendered_width': 96, 'sprite_height': 1246, 'sprite_urls': ['https://instagram.fmaa3-2.fna.fbcdn.net/v/t51.2885-15/506037301_1839176043304519_6978126744824726359_n.jpg?_nc_ht=instagram.fmaa3-2.fna.fbcdn.net&_nc_cat=107&_nc_oc=Q6cZ2QHpkDz0ztmzZbyozOooM3U8Mz-QbQ0BeMIn6rQQgXAmIfkqoxiNpCAPL0RBu9fXQxTiPjMAf9oRQqz-iqdTkpVS&_nc_ohc=LX4AVhZ0yDcQ7kNvwHQcwGL&_nc_gid=M1Wyp7cNP_AfvIsnQkyc2g&edm=AA3Yet0BAAAA&ccb=7-5&oh=00_AfM_EcZOs-LAgIOO-UleeWwgA0PkYHbiFBFshdgqiD5Ccg&oe=68556A6A&_nc_sid=da5c95'], 'sprite_width': 1500, 'thumbnail_duration': 0.5291619047619047, 'thumbnail_height': 178, 'thumbnail_width': 100, 'thumbnails_per_row': 15, 'total_thumbnail_num_per_sprite': 105, 'video_length': 55.562}}}, product_type='clips', thumbnail_url=Url('https://scontent.cdninstagram.com/v/t51.75761-15/508646474_17843790378513064_4297980843217685909_n.jpg?stp=dst-jpg_e15_p360x360_tt6&_nc_cat=101&ig_cache_key=MzY1NjAzNDA5NDA2MDQ3NTkwMA%3D%3D.3-ccb1-7&ccb=1-7&_nc_sid=58cdad&efg=eyJ2ZW5jb2RlX3RhZyI6InhwaWRzLjY0MHg4MDAuc2RyIn0%3D&_nc_ohc=jGrzA6Kk0h4Q7kNvwGRnjk3&_nc_oc=AdknGm1u3n45NklIBiKLDlSKGmJ_hogxbQye7fht4kGmkNubvFIeK70cniZtru3rde7vH0adItiRu27ondcNZloY&_nc_ad=z-m&_nc_cid=0&_nc_zt=23&_nc_ht=scontent.cdninstagram.com&_nc_gid=M1Wyp7cNP_AfvIsnQkyc2g&oh=00_AfOGczRDRffiTHYwy5WJi7XeihQG7qJlxFX5OXFBuuR-pA&oe=685596E6'), location=None, user=UserShort(pk='75456177063', username='4tpurpose101', full_name='bob the builder', profile_pic_url=Url('https://instagram.fmaa2-1.fna.fbcdn.net/v/t51.2885-19/464760996_1254146839119862_3605321457742435801_n.png?stp=dst-jpg_e0_s150x150_tt6&cb=8577c754-c2464923&_nc_ht=instagram.fmaa2-1.fna.fbcdn.net&_nc_cat=1&_nc_oc=Q6cZ2QEjgmh4vJHWwBP9fL6mNGDmHygerkihabdWssj0hXx2mIffQr0xCZ6B6VeiuAZRR_r9ekgcuxHe2NtTDmvVk5M9&_nc_ohc=c6buZ3gCB_MQ7kNvwFYuHew&_nc_gid=T5M8fxE78klhAkApnr7tLA&edm=ALlQn9MBAAAA&ccb=7-5&ig_cache_key=YW5vbnltb3VzX3Byb2ZpbGVfcGlj.3-ccb7-5-cb8577c754-c2464923&oh=00_AfOJ2uAotAW0Ik3-TfaslBTewrHNC22Iyy-LfREy8mzL8A&oe=685578A8&_nc_sid=e7f676'), profile_pic_url_hd=None, is_private=False, stories=[]), comment_count=0, comments_disabled=False, commenting_disabled_for_viewer=False, like_count=0, play_count=0, has_liked=False, caption_text='first', accessibility_caption=None, usertags=[], sponsor_tags=[], video_url=Url('https://instagram.fmaa3-2.fna.fbcdn.net/o1/v/t2/f2/m86/AQNHqI7tpKSTkR2I9zGCcR8vE058Lc8DOzUyzFYLfLWJwaCtT2o8AJZ42XgJ8aMUzWJi4qGJ7F9r6KdWAgvJsO0JSonMUm6x4qERlGc.mp4?_nc_cat=107&_nc_oc=Adme4H_WnNXxUAVoZLpFDGUmdbWugzHbxbjmMRGFyFXezTduiciNc75VCYkduUFbw-QXghQpqdXeTy70XGxeNd33&_nc_sid=5e9851&_nc_ht=instagram.fmaa3-2.fna.fbcdn.net&_nc_ohc=KR9npLQ8o-YQ7kNvwFwyUzr&efg=eyJ2ZW5jb2RlX3RhZyI6Inhwdl9wcm9ncmVzc2l2ZS5JTlNUQUdSQU0uQ0xJUFMuQzMuNzIwLmRhc2hfYmFzZWxpbmVfMV92MSIsInhwdl9hc3NldF9pZCI6MTA1NjUyNjI0MjYxNjEzNiwidmlfdXNlY2FzZV9pZCI6MTAwOTksImR1cmF0aW9uX3MiOjU1LCJ1cmxnZW5fc291cmNlIjoid3d3In0%3D&ccb=17-1&vs=4793b816283a04bc&_nc_vs=HBksFQIYUmlnX3hwdl9yZWVsc19wZXJtYW5lbnRfc3JfcHJvZC83MzQ4QUFGOTNBOEJERENBMURBQ0M0OTM0MkVCN0VCQV92aWRlb19kYXNoaW5pdC5tcDQVAALIARIAFQIYOnBhc3N0aHJvdWdoX2V2ZXJzdG9yZS9HQ0RGUmg2YjQ3Unc2c2dEQU53bk02MFkydFZ3YnFfRUFBQUYVAgLIARIAKAAYABsCiAd1c2Vfb2lsATEScHJvZ3Jlc3NpdmVfcmVjaXBlATEVAAAmkM2Y9vW54AMVAigCQzMsF0BLvGp--dsjGBJkYXNoX2Jhc2VsaW5lXzFfdjERAHX-B2XmnQEA&_nc_zt=28&oh=00_AfMcacNQo7v0KxQRZZXnDvPYDRwG5p8EJdehD-SaM1XbIA&oe=685173B0'), view_count=0, video_duration=55.562, title='', resources=[], clips_metadata={'clips_creation_entry_point': '', 'featured_label': None, 'is_public_chat_welcome_video': False, 'professional_clips_upsell_type': 0, 'show_tips': None, 'achievements_info': {'num_earned_achievements': None, 'show_achievements': False}, 'additional_audio_info': {'additional_audio_username': None, 'audio_reattribution_info': {'should_allow_restore': False}}, 'asset_recommendation_info': None, 'audio_ranking_info': {'best_audio_cluster_id': '1236057744562256'}, 'audio_type': 'original_sounds', 'branded_content_tag_info': {'can_add_tag': True}, 'breaking_content_info': None, 'breaking_creator_info': None, 'challenge_info': None, 'content_appreciation_info': {'enabled': False, 'entry_point_container': None}, 'contextual_highlight_info': None, 'cutout_sticker_info': [], 'disable_use_in_clips_client_cache': False, 'external_media_info': None, 'is_fan_club_promo_video': False, 'is_shared_to_fb': False, 'mashup_info': {'can_toggle_mashups_allowed': True, 'formatted_mashups_count': None, 'has_been_mashed_up': False, 'has_nonmimicable_additional_audio': False, 'is_creator_requesting_mashup': False, 'is_light_weight_check': True, 'is_light_weight_reuse_allowed_check': False, 'is_pivot_page_available': False, 'is_reuse_allowed': False, 'mashup_type': None, 'mashups_allowed': True, 'non_privacy_filtered_mashups_media_count': 0, 'privacy_filtered_mashups_media_count': None, 'original_media': None}, 'merchandising_pill_info': None, 'music_canonical_id': '18481333027068652', 'music_info': None, 'nux_info': None, 'original_sound_info': {'allow_creator_to_rename': True, 'audio_asset_id': 639144732483773, 'attributed_custom_audio_asset_id': None, 'can_remix_be_shared_to_fb': False, 'can_remix_be_shared_to_fb_expansion': False, 'dash_manifest': '<?xml version=\"1.0\" encoding=\"UTF-8\"?>\\n<MPD xmlns=\"urn:mpeg:dash:schema:mpd:2011\" xmlns:xsi=\"http://www.w3.org/2001/XMLSchema-instance\" xsi:schemaLocation=\"urn:mpeg:dash:schema:mpd:2011 DASH-MPD.xsd\" profiles=\"urn:mpeg:dash:profile:isoff-on-demand:2011\" minBufferTime=\"PT2S\" type=\"static\" mediaPresentationDuration=\"PT55.473877S\"><Period id=\"0\" duration=\"PT55.473877S\"><AdaptationSet id=\"0\" contentType=\"audio\" subsegmentStartsWithSAP=\"1\" subsegmentAlignment=\"true\"><Representation id=\"1461397291676709a\" bandwidth=\"63306\" codecs=\"mp4a.40.5\" mimeType=\"audio/mp4\" FBAvgBitrate=\"63306\" audioSamplingRate=\"44100\" FBDefaultQuality=\"1\"><AudioChannelConfiguration schemeIdUri=\"urn:mpeg:dash:23003:3:audio_channel_configuration:2011\" value=\"2\"/><BaseURL>https://instagram.fmaa3-3.fna.fbcdn.net/o1/v/t16/f2/m69/AQMthLPc_oV5nNmhUVtTQ0UNmOWH84bHACDzv6f24-3mNQf1GGl2arg5J-D35WLYYoImg0lyNGO9nTYCi369aGoq.mp4?strext=1&amp;_nc_cat=106&amp;_nc_oc=Adl859DbViW8z73VOTMBVnRy06h5MLpVa1CxjzwARDTmU9c9cJ73nvtZBVpb-syaKlaBFI16V4luDC-W9Lx01saK&amp;_nc_sid=9ca052&amp;_nc_ht=instagram.fmaa3-3.fna.fbcdn.net&amp;_nc_ohc=MSru9s0QvZIQ7kNvwENefd8&amp;efg=eyJ2ZW5jb2RlX3RhZyI6ImRhc2hfbG5faGVhYWNfdmJyM19hdWRpbyIsInZpZGVvX2lkIjpudWxsLCJvaWxfdXJsZ2VuX2FwcF9pZCI6MjU2MjgxMDQwNTU4LCJjbGllbnRfbmFtZSI6InVua25vd24iLCJ4cHZfYXNzZXRfaWQiOjEwNTY1MjYyNDI2MTYxMzYsInZpX3VzZWNhc2VfaWQiOjEwMDk5LCJkdXJhdGlvbl9zIjo1NSwidXJsZ2VuX3NvdXJjZSI6Ind3dyJ9&amp;ccb=17-1&amp;_nc_zt=28&amp;oh=00_AfMnu8mOyrUEuG5orsd0Yn0xjhDqWszQVSpocmUDL3wB-g&amp;oe=685597D6</BaseURL><SegmentBase indexRange=\"824-1191\" timescale=\"44100\"><Initialization range=\"0-823\"/></SegmentBase></Representation></AdaptationSet></Period></MPD>\\n', 'duration_in_ms': 55562, 'formatted_clips_media_count': None, 'hide_remixing': False, 'is_audio_automatically_attributed': False, 'is_eligible_for_audio_effects': True, 'is_eligible_for_vinyl_sticker': True, 'is_explicit': False, 'is_original_audio_download_eligible': True, 'is_reuse_disabled': False, 'is_xpost_from_fb': False, 'music_canonical_id': None, 'oa_owner_is_music_artist': False, 'original_audio_subtype': 'default', 'original_audio_title': 'Original audio', 'original_media_id': 3656034094060475900, 'progressive_download_url': 'https://instagram.fmaa3-3.fna.fbcdn.net/o1/v/t2/f2/m69/AQN3ycK3plRcpO-UqCocQHZsJukVP85E3prX4GTOQvBYB0Clk8BSobXhW0AJXjyQnwGOFfdf0VDsCBJLzyEuyHp8.mp4?strext=1&_nc_cat=110&_nc_oc=Adm0dKAhLemzwwiNirPI6Ecd5fhnm2tcSPlSPZ2uQVoj_AuOJ8SH9U9eF1R3vpo1xJv5PkqwXszQ5WInWcddaUHv&_nc_sid=8bf8fe&_nc_ht=instagram.fmaa3-3.fna.fbcdn.net&_nc_ohc=YzncyRvKvSQQ7kNvwHKAGYR&efg=eyJ2ZW5jb2RlX3RhZyI6Inhwdl9wcm9ncmVzc2l2ZS5BVURJT19PTkxZLi5DMy4wLnByb2dyZXNzaXZlX2F1ZGlvIiwieHB2X2Fzc2V0X2lkIjoxMDU2NTI2MjQyNjE2MTM2LCJ2aV91c2VjYXNlX2lkIjoxMDA5OSwiZHVyYXRpb25fcyI6NTUsInVybGdlbl9zb3VyY2UiOiJ3d3cifQ%3D%3D&ccb=17-1&_nc_zt=28&oh=00_AfPXuukBGHjstGWGV-yCjgioZ29U-b9DUfsHQsAWy6Ki2Q&oe=68559920', 'should_mute_audio': False, 'time_created': 1750053266, 'trend_rank': None, 'previous_trend_rank': None, 'overlap_duration_in_ms': None, 'audio_asset_start_time_in_ms': None, 'ig_artist': {'pk': 75456177063, 'pk_id': '75456177063', 'id': '75456177063', 'username': '4tpurpose101', 'full_name': 'bob the builder', 'is_private': False, 'is_verified': False, 'profile_pic_url': 'https://instagram.fmaa2-1.fna.fbcdn.net/v/t51.2885-19/464760996_1254146839119862_3605321457742435801_n.png?stp=dst-jpg_e0_s150x150_tt6&cb=8577c754-c2464923&_nc_ht=instagram.fmaa2-1.fna.fbcdn.net&_nc_cat=1&_nc_oc=Q6cZ2QEjgmh4vJHWwBP9fL6mNGDmHygerkihabdWssj0hXx2mIffQr0xCZ6B6VeiuAZRR_r9ekgcuxHe2NtTDmvVk5M9&_nc_ohc=c6buZ3gCB_MQ7kNvwFYuHew&_nc_gid=T5M8fxE78klhAkApnr7tLA&edm=ALlQn9MBAAAA&ccb=7-5&ig_cache_key=YW5vbnltb3VzX3Byb2ZpbGVfcGlj.3-ccb7-5-cb8577c754-c2464923&oh=00_AfOJ2uAotAW0Ik3-TfaslBTewrHNC22Iyy-LfREy8mzL8A&oe=685578A8&_nc_sid=e7f676', 'has_onboarded_to_text_post_app': False, 'strong_id__': '75456177063'}, 'audio_filter_infos': [], 'audio_parts': [], 'audio_parts_by_filter': [], 'consumption_info': {'display_media_id': None, 'is_bookmarked': False, 'is_trending_in_clips': False, 'should_mute_audio_reason': '', 'should_mute_audio_reason_type': None, 'user_notes': None}, 'xpost_fb_creator_info': None, 'fb_downstream_use_xpost_metadata': {'downstream_use_xpost_deny_reason': 'NONE'}}, 'originality_info': None, 'reels_on_the_rise_info': None, 'reusable_text_attribute_string': None, 'reusable_text_info': None, 'shopping_info': None, 'show_achievements': False, 'template_info': None, 'may_have_template_info': None, 'viewer_interaction_settings': None})"
      ]
     },
     "execution_count": 19,
     "metadata": {},
     "output_type": "execute_result"
    },
    {
     "ename": "",
     "evalue": "",
     "output_type": "error",
     "traceback": [
      "\u001b[1;31mThe Kernel crashed while executing code in the current cell or a previous cell. \n",
      "\u001b[1;31mPlease review the code in the cell(s) to identify a possible cause of the failure. \n",
      "\u001b[1;31mClick <a href='https://aka.ms/vscodeJupyterKernelCrash'>here</a> for more info. \n",
      "\u001b[1;31mView Jupyter <a href='command:jupyter.viewOutput'>log</a> for further details."
     ]
    }
   ],
   "source": [
    "cl.clip_upload(\"wow/2025-05-19_13-00-04_UTC.mp4\", \"first\", \"wow/2025-05-19_13-00-04_UTC.jpg\")"
   ]
  },
  {
   "cell_type": "markdown",
   "id": "9aab87ac",
   "metadata": {},
   "source": []
  },
  {
   "cell_type": "code",
   "execution_count": null,
   "id": "82d7afa0",
   "metadata": {},
   "outputs": [],
   "source": []
  }
 ],
 "metadata": {
  "kernelspec": {
   "display_name": "Python 3",
   "language": "python",
   "name": "python3"
  },
  "language_info": {
   "codemirror_mode": {
    "name": "ipython",
    "version": 3
   },
   "file_extension": ".py",
   "mimetype": "text/x-python",
   "name": "python",
   "nbconvert_exporter": "python",
   "pygments_lexer": "ipython3",
   "version": "3.11.5"
  }
 },
 "nbformat": 4,
 "nbformat_minor": 5
}
